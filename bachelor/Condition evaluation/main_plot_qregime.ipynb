{
 "cells": [
  {
   "cell_type": "code",
   "execution_count": 28,
   "id": "aaa31192",
   "metadata": {},
   "outputs": [],
   "source": [
    "import pickle\n",
    "import os\n",
    "import numpy as np\n",
    "import matplotlib.pyplot as plt\n",
    "from matplotlib.colors import LogNorm"
   ]
  },
  {
   "cell_type": "code",
   "execution_count": 29,
   "id": "8acc61be",
   "metadata": {},
   "outputs": [
    {
     "ename": "FileNotFoundError",
     "evalue": "[Errno 2] No such file or directory: '../../scheme_scores_4_adaptive.pickle'",
     "output_type": "error",
     "traceback": [
      "\u001b[0;31m---------------------------------------------------------------------------\u001b[0m",
      "\u001b[0;31mFileNotFoundError\u001b[0m                         Traceback (most recent call last)",
      "Cell \u001b[0;32mIn[29], line 1\u001b[0m\n\u001b[0;32m----> 1\u001b[0m \u001b[38;5;28;01mwith\u001b[39;00m \u001b[38;5;28;43mopen\u001b[39;49m\u001b[43m(\u001b[49m\u001b[38;5;124;43m\"\u001b[39;49m\u001b[38;5;124;43m../../scheme_scores_4_adaptive.pickle\u001b[39;49m\u001b[38;5;124;43m\"\u001b[39;49m\u001b[43m,\u001b[49m\u001b[43m \u001b[49m\u001b[38;5;124;43m\"\u001b[39;49m\u001b[38;5;124;43mrb\u001b[39;49m\u001b[38;5;124;43m\"\u001b[39;49m\u001b[43m)\u001b[49m \u001b[38;5;28;01mas\u001b[39;00m f:\n\u001b[1;32m      2\u001b[0m     scheme_scores_4_adaptive \u001b[38;5;241m=\u001b[39m pickle\u001b[38;5;241m.\u001b[39mload(f)\n",
      "File \u001b[0;32m~/miniconda3/envs/qdev/lib/python3.12/site-packages/IPython/core/interactiveshell.py:324\u001b[0m, in \u001b[0;36m_modified_open\u001b[0;34m(file, *args, **kwargs)\u001b[0m\n\u001b[1;32m    317\u001b[0m \u001b[38;5;28;01mif\u001b[39;00m file \u001b[38;5;129;01min\u001b[39;00m {\u001b[38;5;241m0\u001b[39m, \u001b[38;5;241m1\u001b[39m, \u001b[38;5;241m2\u001b[39m}:\n\u001b[1;32m    318\u001b[0m     \u001b[38;5;28;01mraise\u001b[39;00m \u001b[38;5;167;01mValueError\u001b[39;00m(\n\u001b[1;32m    319\u001b[0m         \u001b[38;5;124mf\u001b[39m\u001b[38;5;124m\"\u001b[39m\u001b[38;5;124mIPython won\u001b[39m\u001b[38;5;124m'\u001b[39m\u001b[38;5;124mt let you open fd=\u001b[39m\u001b[38;5;132;01m{\u001b[39;00mfile\u001b[38;5;132;01m}\u001b[39;00m\u001b[38;5;124m by default \u001b[39m\u001b[38;5;124m\"\u001b[39m\n\u001b[1;32m    320\u001b[0m         \u001b[38;5;124m\"\u001b[39m\u001b[38;5;124mas it is likely to crash IPython. If you know what you are doing, \u001b[39m\u001b[38;5;124m\"\u001b[39m\n\u001b[1;32m    321\u001b[0m         \u001b[38;5;124m\"\u001b[39m\u001b[38;5;124myou can use builtins\u001b[39m\u001b[38;5;124m'\u001b[39m\u001b[38;5;124m open.\u001b[39m\u001b[38;5;124m\"\u001b[39m\n\u001b[1;32m    322\u001b[0m     )\n\u001b[0;32m--> 324\u001b[0m \u001b[38;5;28;01mreturn\u001b[39;00m \u001b[43mio_open\u001b[49m\u001b[43m(\u001b[49m\u001b[43mfile\u001b[49m\u001b[43m,\u001b[49m\u001b[43m \u001b[49m\u001b[38;5;241;43m*\u001b[39;49m\u001b[43margs\u001b[49m\u001b[43m,\u001b[49m\u001b[43m \u001b[49m\u001b[38;5;241;43m*\u001b[39;49m\u001b[38;5;241;43m*\u001b[39;49m\u001b[43mkwargs\u001b[49m\u001b[43m)\u001b[49m\n",
      "\u001b[0;31mFileNotFoundError\u001b[0m: [Errno 2] No such file or directory: '../../scheme_scores_4_adaptive.pickle'"
     ]
    }
   ],
   "source": [
    "with open(\"../../scheme_scores_4_adaptive.pickle\", \"rb\") as f:\n",
    "    scheme_scores_4_adaptive = pickle.load(f)"
   ]
  },
  {
   "cell_type": "code",
   "execution_count": 30,
   "id": "4cb4f386",
   "metadata": {},
   "outputs": [],
   "source": [
    "plot_axes = [\n",
    "    \"t_g\"\n",
    "]\n",
    "iso_axes = {\n",
    "    \"Ec\": 1.3,\n",
    "    \"El\": 0.59,\n",
    "    \"Ej\": 5.71,\n",
    "    \"L1\": 1.58e-4,\n",
    "    \"L2\": 1.58e-4,\n",
    "}"
   ]
  },
  {
   "cell_type": "code",
   "execution_count": 31,
   "id": "7588432a",
   "metadata": {},
   "outputs": [
    {
     "name": "stdout",
     "output_type": "stream",
     "text": [
      "Doing 1D plot\n"
     ]
    },
    {
     "ename": "NameError",
     "evalue": "name 'scheme_scores_4_adaptive' is not defined",
     "output_type": "error",
     "traceback": [
      "\u001b[0;31m---------------------------------------------------------------------------\u001b[0m",
      "\u001b[0;31mNameError\u001b[0m                                 Traceback (most recent call last)",
      "Cell \u001b[0;32mIn[31], line 3\u001b[0m\n\u001b[1;32m      1\u001b[0m \u001b[38;5;28;01mif\u001b[39;00m \u001b[38;5;28mlen\u001b[39m(plot_axes) \u001b[38;5;241m==\u001b[39m \u001b[38;5;241m1\u001b[39m:\n\u001b[1;32m      2\u001b[0m     \u001b[38;5;28mprint\u001b[39m(\u001b[38;5;124m\"\u001b[39m\u001b[38;5;124mDoing 1D plot\u001b[39m\u001b[38;5;124m\"\u001b[39m)\n\u001b[0;32m----> 3\u001b[0m     \u001b[38;5;28;01mfor\u001b[39;00m key \u001b[38;5;129;01min\u001b[39;00m \u001b[43mscheme_scores_4_adaptive\u001b[49m:\u001b[38;5;66;03m#key is just the gate that is attempted\u001b[39;00m\n\u001b[1;32m      4\u001b[0m         datapoints \u001b[38;5;241m=\u001b[39m scheme_scores_4_adaptive[key]\n\u001b[1;32m      5\u001b[0m         distance_2_isoaxis \u001b[38;5;241m=\u001b[39m np\u001b[38;5;241m.\u001b[39mzeros(\u001b[38;5;28mlen\u001b[39m(datapoints))\n",
      "\u001b[0;31mNameError\u001b[0m: name 'scheme_scores_4_adaptive' is not defined"
     ]
    }
   ],
   "source": [
    "if len(plot_axes) == 1:\n",
    "    print(\"Doing 1D plot\")\n",
    "    for key in scheme_scores_4_adaptive:#key is just the gate that is attempted\n",
    "        datapoints = scheme_scores_4_adaptive[key]\n",
    "        distance_2_isoaxis = np.zeros(len(datapoints))\n",
    "        for i,dp in enumerate(datapoints):\n",
    "            for ia in iso_axes:\n",
    "                distance_2_isoaxis[i] += (dp[ia] - iso_axes[ia])**2\n",
    "        distance_2_isoaxis = np.sqrt(distance_2_isoaxis)\n",
    "        plot_axis = np.full(len(datapoints), np.nan)\n",
    "        for i,dp in enumerate(datapoints):\n",
    "            plot_axis[i] = dp[plot_axes[0]]\n",
    "        scores = np.zeros(len(datapoints))\n",
    "        for i,dp in enumerate(datapoints):\n",
    "            scores[i] = dp[\"score\"]\n",
    "        nanmask = np.isnan(plot_axis) & np.isnan(scores)\n",
    "        plot_axis = plot_axis[~nanmask]\n",
    "        scores = scores[~nanmask]\n",
    "        distance_2_isoaxis = distance_2_isoaxis[~nanmask]\n",
    "        distance_cut_mask = distance_2_isoaxis < 1*np.max(distance_2_isoaxis)\n",
    "        enable_color = True\n",
    "        plot_axis = plot_axis[distance_cut_mask]\n",
    "        scores = scores[distance_cut_mask]\n",
    "        distance_2_isoaxis = distance_2_isoaxis[distance_cut_mask]\n",
    "        #make a cmap after the distance to the plot axis\n",
    "        if enable_color:\n",
    "            cmap = plt.cm.hot\n",
    "            norm = LogNorm(np.min(distance_2_isoaxis), np.max(distance_2_isoaxis))\n",
    "            plt.scatter(plot_axis, scores, c=distance_2_isoaxis, cmap=cmap, norm=norm, s=10, alpha=0.7)\n",
    "            plt.colorbar(label=\"Distance to isoaxis\")\n",
    "        else:\n",
    "            plt.scatter(plot_axis, scores, s=10, alpha=0.7)\n",
    "        plt.title(f'Scheme \"{key}\" scores')\n",
    "        plt.xlabel(plot_axes[0])\n",
    "        plt.ylabel(\"Fidelity\")\n",
    "        #plt.xscale(\"log\")\n",
    "        plt.show()\n"
   ]
  }
 ],
 "metadata": {
  "kernelspec": {
   "display_name": "qdev",
   "language": "python",
   "name": "python3"
  },
  "language_info": {
   "codemirror_mode": {
    "name": "ipython",
    "version": 3
   },
   "file_extension": ".py",
   "mimetype": "text/x-python",
   "name": "python",
   "nbconvert_exporter": "python",
   "pygments_lexer": "ipython3",
   "version": "3.12.2"
  }
 },
 "nbformat": 4,
 "nbformat_minor": 5
}
