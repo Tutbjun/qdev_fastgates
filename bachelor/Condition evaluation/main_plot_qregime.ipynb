{
 "cells": [
  {
   "cell_type": "code",
   "execution_count": null,
   "id": "438d5505",
   "metadata": {},
   "outputs": [],
   "source": []
  },
  {
   "cell_type": "code",
   "execution_count": null,
   "metadata": {},
   "outputs": [],
   "source": []
  },
  {
   "cell_type": "code",
   "execution_count": 75,
   "id": "aaa31192",
   "metadata": {},
   "outputs": [],
   "source": [
    "import pickle\n",
    "import os\n",
    "import numpy as np\n",
    "import matplotlib.pyplot as plt\n",
    "from matplotlib.colors import LogNorm"
   ]
  },
  {
   "cell_type": "code",
   "execution_count": 76,
   "id": "8acc61be",
   "metadata": {},
   "outputs": [],
   "source": [
    "with open(\"../../scheme_scores_4_adaptive.pickle\", \"rb\") as f:\n",
    "    scheme_scores_4_adaptive = pickle.load(f)"
   ]
  },
  {
   "cell_type": "code",
   "execution_count": 77,
   "id": "4cb4f386",
   "metadata": {},
   "outputs": [],
   "source": [
    "plot_axes = [\n",
    "    \"t_g\"\n",
    "]\n",
    "iso_axes = {\n",
    "    \"Ec\": 1.3,\n",
    "    \"El\": 0.59,\n",
    "    \"Ej\": 5.71,\n",
    "    \"L1\": 1.58e-4,\n",
    "    \"L2\": 1.58e-4,\n",
    "}"
   ]
  },
  {
   "cell_type": "code",
   "execution_count": 78,
   "id": "7588432a",
   "metadata": {},
   "outputs": [
    {
     "name": "stdout",
     "output_type": "stream",
     "text": [
      "Doing 1D plot\n",
      "Length of set: 32\n",
      "Of which, 0 where thrown out due to timeouts\n",
      "Of which, 17 where thrown out due to other errors\n"
     ]
    },
    {
     "data": {
      "image/png": "[encoded data removed]",
      "text/plain": [
       "<Figure size 640x480 with 1 Axes>"
      ]
     },
     "metadata": {},
     "output_type": "display_data"
    }
   ],
   "source": [
    "if len(plot_axes) == 1:\n",
    "    print(\"Doing 1D plot\")\n",
    "    for key in scheme_scores_4_adaptive:#key is just the gate that is attempted\n",
    "        datapoints = scheme_scores_4_adaptive[key]\n",
    "        print(f\"Length of set: {len(datapoints)}\")\n",
    "        timeouts = 0\n",
    "        for i,dp in enumerate(datapoints):\n",
    "            if \"timeout\" in dp.keys() and dp[\"timeout\"]:\n",
    "                timeouts += 1\n",
    "        print(f\"Of which, {timeouts} where thrown out due to timeouts\")\n",
    "        other_errors = 0\n",
    "        for i,dp in enumerate(datapoints):\n",
    "            if dp[\"score\"] == None:\n",
    "                other_errors += 1\n",
    "        print(f\"Of which, {other_errors-timeouts} where thrown out due to other errors\")\n",
    "        distance_2_isoaxis = np.zeros(len(datapoints))\n",
    "        for i,dp in enumerate(datapoints):\n",
    "            for ia in iso_axes:\n",
    "                distance_2_isoaxis[i] += (dp[ia] - iso_axes[ia])**2\n",
    "        distance_2_isoaxis = np.sqrt(distance_2_isoaxis)\n",
    "        plot_axis = np.full(len(datapoints), np.nan)\n",
    "        for i,dp in enumerate(datapoints):\n",
    "            plot_axis[i] = dp[plot_axes[0]]\n",
    "        scores = np.zeros(len(datapoints))\n",
    "        for i,dp in enumerate(datapoints):\n",
    "            scores[i] = dp[\"score\"]\n",
    "        nanmask = np.isnan(plot_axis) & np.isnan(scores)\n",
    "        plot_axis = plot_axis[~nanmask]\n",
    "        scores = scores[~nanmask]\n",
    "        distance_2_isoaxis = distance_2_isoaxis[~nanmask]\n",
    "        \"\"\"distance_cut_mask = distance_2_isoaxis < 1*np.max(distance_2_isoaxis)\n",
    "        enable_color = True\n",
    "        plot_axis = plot_axis[distance_cut_mask]\n",
    "        scores = scores[distance_cut_mask]\n",
    "        distance_2_isoaxis = distance_2_isoaxis[distance_cut_mask]\"\"\"\n",
    "        #make a cmap after the distance to the plot axis\n",
    "        if False:#enable_color:\n",
    "            cmap = plt.cm.hot\n",
    "            norm = LogNorm(np.min(distance_2_isoaxis), np.max(distance_2_isoaxis))\n",
    "            plt.scatter(plot_axis, scores, c=distance_2_isoaxis, cmap=cmap, norm=norm, s=10, alpha=0.7)\n",
    "            plt.colorbar(label=\"Distance to isoaxis\")\n",
    "        else:\n",
    "            plt.scatter(plot_axis, scores, s=10, alpha=0.7)\n",
    "        plt.title(f'Scheme \"{key}\" scores')\n",
    "        plt.xlabel(fr\"${plot_axes[0]}$ ns\")\n",
    "        plt.ylabel(\"Fidelity\")\n",
    "        #plt.xscale(\"log\")\n",
    "        plt.show()\n"
   ]
  },
  {
   "cell_type": "code",
   "execution_count": 79,
   "id": "835501ca",
   "metadata": {},
   "outputs": [],
   "source": [
    "plot_axes = [\n",
    "    \"t_g\",\n",
    "    \"alpha\"\n",
    "]\n",
    "iso_axes = {\n",
    "    \"Ec\": 1.3,\n",
    "    \"El\": 0.59,\n",
    "    \"L1\": 1.58e-4,\n",
    "    \"L2\": 1.58e-4,\n",
    "}"
   ]
  },
  {
   "cell_type": "code",
   "execution_count": 80,
   "id": "c13999fe",
   "metadata": {},
   "outputs": [
    {
     "name": "stdout",
     "output_type": "stream",
     "text": [
      "Doing 2D plot\n",
      "Threw out 32 datapoints\n",
      "Length of set: 0\n",
      "Timeouts for scheme corotating_xy_virt_z: 0\n"
     ]
    },
    {
     "ename": "ValueError",
     "evalue": "Found array with 0 sample(s) (shape=(0, 2)) while a minimum of 1 is required by NearestNeighbors.",
     "output_type": "error",
     "traceback": [
      "\u001b[0;31m---------------------------------------------------------------------------\u001b[0m",
      "\u001b[0;31mValueError\u001b[0m                                Traceback (most recent call last)",
      "Cell \u001b[0;32mIn[80], line 40\u001b[0m\n\u001b[1;32m     38\u001b[0m \u001b[38;5;66;03m#do a k=2 nearest neighbour plot\u001b[39;00m\n\u001b[1;32m     39\u001b[0m \u001b[38;5;28;01mfrom\u001b[39;00m \u001b[38;5;21;01msklearn\u001b[39;00m\u001b[38;5;21;01m.\u001b[39;00m\u001b[38;5;21;01mneighbors\u001b[39;00m \u001b[38;5;28;01mimport\u001b[39;00m NearestNeighbors\n\u001b[0;32m---> 40\u001b[0m nbrs \u001b[38;5;241m=\u001b[39m \u001b[43mNearestNeighbors\u001b[49m\u001b[43m(\u001b[49m\u001b[43mn_neighbors\u001b[49m\u001b[38;5;241;43m=\u001b[39;49m\u001b[38;5;241;43m2\u001b[39;49m\u001b[43m,\u001b[49m\u001b[43m \u001b[49m\u001b[43malgorithm\u001b[49m\u001b[38;5;241;43m=\u001b[39;49m\u001b[38;5;124;43m'\u001b[39;49m\u001b[38;5;124;43mball_tree\u001b[39;49m\u001b[38;5;124;43m'\u001b[39;49m\u001b[43m)\u001b[49m\u001b[38;5;241;43m.\u001b[39;49m\u001b[43mfit\u001b[49m\u001b[43m(\u001b[49m\u001b[43mnp\u001b[49m\u001b[38;5;241;43m.\u001b[39;49m\u001b[43marray\u001b[49m\u001b[43m(\u001b[49m\u001b[43m[\u001b[49m\u001b[43mplot_axis_x\u001b[49m\u001b[43m,\u001b[49m\u001b[43m \u001b[49m\u001b[43mplot_axis_y\u001b[49m\u001b[43m]\u001b[49m\u001b[43m)\u001b[49m\u001b[38;5;241;43m.\u001b[39;49m\u001b[43mT\u001b[49m\u001b[43m)\u001b[49m\n\u001b[1;32m     41\u001b[0m X \u001b[38;5;241m=\u001b[39m np\u001b[38;5;241m.\u001b[39mlinspace(np\u001b[38;5;241m.\u001b[39mmin(plot_axis_x), np\u001b[38;5;241m.\u001b[39mmax(plot_axis_x), \u001b[38;5;241m100\u001b[39m)\n\u001b[1;32m     42\u001b[0m Y \u001b[38;5;241m=\u001b[39m np\u001b[38;5;241m.\u001b[39mlinspace(np\u001b[38;5;241m.\u001b[39mmin(plot_axis_y), np\u001b[38;5;241m.\u001b[39mmax(plot_axis_y), \u001b[38;5;241m100\u001b[39m)\n",
      "File \u001b[0;32m~/miniconda3/envs/qdev/lib/python3.12/site-packages/sklearn/base.py:1389\u001b[0m, in \u001b[0;36m_fit_context.<locals>.decorator.<locals>.wrapper\u001b[0;34m(estimator, *args, **kwargs)\u001b[0m\n\u001b[1;32m   1382\u001b[0m     estimator\u001b[38;5;241m.\u001b[39m_validate_params()\n\u001b[1;32m   1384\u001b[0m \u001b[38;5;28;01mwith\u001b[39;00m config_context(\n\u001b[1;32m   1385\u001b[0m     skip_parameter_validation\u001b[38;5;241m=\u001b[39m(\n\u001b[1;32m   1386\u001b[0m         prefer_skip_nested_validation \u001b[38;5;129;01mor\u001b[39;00m global_skip_validation\n\u001b[1;32m   1387\u001b[0m     )\n\u001b[1;32m   1388\u001b[0m ):\n\u001b[0;32m-> 1389\u001b[0m     \u001b[38;5;28;01mreturn\u001b[39;00m \u001b[43mfit_method\u001b[49m\u001b[43m(\u001b[49m\u001b[43mestimator\u001b[49m\u001b[43m,\u001b[49m\u001b[43m \u001b[49m\u001b[38;5;241;43m*\u001b[39;49m\u001b[43margs\u001b[49m\u001b[43m,\u001b[49m\u001b[43m \u001b[49m\u001b[38;5;241;43m*\u001b[39;49m\u001b[38;5;241;43m*\u001b[39;49m\u001b[43mkwargs\u001b[49m\u001b[43m)\u001b[49m\n",
      "File \u001b[0;32m~/miniconda3/envs/qdev/lib/python3.12/site-packages/sklearn/neighbors/_unsupervised.py:179\u001b[0m, in \u001b[0;36mNearestNeighbors.fit\u001b[0;34m(self, X, y)\u001b[0m\n\u001b[1;32m    158\u001b[0m \u001b[38;5;129m@_fit_context\u001b[39m(\n\u001b[1;32m    159\u001b[0m     \u001b[38;5;66;03m# NearestNeighbors.metric is not validated yet\u001b[39;00m\n\u001b[1;32m    160\u001b[0m     prefer_skip_nested_validation\u001b[38;5;241m=\u001b[39m\u001b[38;5;28;01mFalse\u001b[39;00m\n\u001b[1;32m    161\u001b[0m )\n\u001b[1;32m    162\u001b[0m \u001b[38;5;28;01mdef\u001b[39;00m \u001b[38;5;21mfit\u001b[39m(\u001b[38;5;28mself\u001b[39m, X, y\u001b[38;5;241m=\u001b[39m\u001b[38;5;28;01mNone\u001b[39;00m):\n\u001b[1;32m    163\u001b[0m \u001b[38;5;250m    \u001b[39m\u001b[38;5;124;03m\"\"\"Fit the nearest neighbors estimator from the training dataset.\u001b[39;00m\n\u001b[1;32m    164\u001b[0m \n\u001b[1;32m    165\u001b[0m \u001b[38;5;124;03m    Parameters\u001b[39;00m\n\u001b[0;32m   (...)\u001b[0m\n\u001b[1;32m    177\u001b[0m \u001b[38;5;124;03m        The fitted nearest neighbors estimator.\u001b[39;00m\n\u001b[1;32m    178\u001b[0m \u001b[38;5;124;03m    \"\"\"\u001b[39;00m\n\u001b[0;32m--> 179\u001b[0m     \u001b[38;5;28;01mreturn\u001b[39;00m \u001b[38;5;28;43mself\u001b[39;49m\u001b[38;5;241;43m.\u001b[39;49m\u001b[43m_fit\u001b[49m\u001b[43m(\u001b[49m\u001b[43mX\u001b[49m\u001b[43m)\u001b[49m\n",
      "File \u001b[0;32m~/miniconda3/envs/qdev/lib/python3.12/site-packages/sklearn/neighbors/_base.py:526\u001b[0m, in \u001b[0;36mNeighborsBase._fit\u001b[0;34m(self, X, y)\u001b[0m\n\u001b[1;32m    524\u001b[0m \u001b[38;5;28;01melse\u001b[39;00m:\n\u001b[1;32m    525\u001b[0m     \u001b[38;5;28;01mif\u001b[39;00m \u001b[38;5;129;01mnot\u001b[39;00m \u001b[38;5;28misinstance\u001b[39m(X, (KDTree, BallTree, NeighborsBase)):\n\u001b[0;32m--> 526\u001b[0m         X \u001b[38;5;241m=\u001b[39m \u001b[43mvalidate_data\u001b[49m\u001b[43m(\u001b[49m\n\u001b[1;32m    527\u001b[0m \u001b[43m            \u001b[49m\u001b[38;5;28;43mself\u001b[39;49m\u001b[43m,\u001b[49m\n\u001b[1;32m    528\u001b[0m \u001b[43m            \u001b[49m\u001b[43mX\u001b[49m\u001b[43m,\u001b[49m\n\u001b[1;32m    529\u001b[0m \u001b[43m            \u001b[49m\u001b[43mensure_all_finite\u001b[49m\u001b[38;5;241;43m=\u001b[39;49m\u001b[43mensure_all_finite\u001b[49m\u001b[43m,\u001b[49m\n\u001b[1;32m    530\u001b[0m \u001b[43m            \u001b[49m\u001b[43maccept_sparse\u001b[49m\u001b[38;5;241;43m=\u001b[39;49m\u001b[38;5;124;43m\"\u001b[39;49m\u001b[38;5;124;43mcsr\u001b[39;49m\u001b[38;5;124;43m\"\u001b[39;49m\u001b[43m,\u001b[49m\n\u001b[1;32m    531\u001b[0m \u001b[43m            \u001b[49m\u001b[43morder\u001b[49m\u001b[38;5;241;43m=\u001b[39;49m\u001b[38;5;124;43m\"\u001b[39;49m\u001b[38;5;124;43mC\u001b[39;49m\u001b[38;5;124;43m\"\u001b[39;49m\u001b[43m,\u001b[49m\n\u001b[1;32m    532\u001b[0m \u001b[43m        \u001b[49m\u001b[43m)\u001b[49m\n\u001b[1;32m    534\u001b[0m \u001b[38;5;28mself\u001b[39m\u001b[38;5;241m.\u001b[39m_check_algorithm_metric()\n\u001b[1;32m    535\u001b[0m \u001b[38;5;28;01mif\u001b[39;00m \u001b[38;5;28mself\u001b[39m\u001b[38;5;241m.\u001b[39mmetric_params \u001b[38;5;129;01mis\u001b[39;00m \u001b[38;5;28;01mNone\u001b[39;00m:\n",
      "File \u001b[0;32m~/miniconda3/envs/qdev/lib/python3.12/site-packages/sklearn/utils/validation.py:2944\u001b[0m, in \u001b[0;36mvalidate_data\u001b[0;34m(_estimator, X, y, reset, validate_separately, skip_check_array, **check_params)\u001b[0m\n\u001b[1;32m   2942\u001b[0m         out \u001b[38;5;241m=\u001b[39m X, y\n\u001b[1;32m   2943\u001b[0m \u001b[38;5;28;01melif\u001b[39;00m \u001b[38;5;129;01mnot\u001b[39;00m no_val_X \u001b[38;5;129;01mand\u001b[39;00m no_val_y:\n\u001b[0;32m-> 2944\u001b[0m     out \u001b[38;5;241m=\u001b[39m \u001b[43mcheck_array\u001b[49m\u001b[43m(\u001b[49m\u001b[43mX\u001b[49m\u001b[43m,\u001b[49m\u001b[43m \u001b[49m\u001b[43minput_name\u001b[49m\u001b[38;5;241;43m=\u001b[39;49m\u001b[38;5;124;43m\"\u001b[39;49m\u001b[38;5;124;43mX\u001b[39;49m\u001b[38;5;124;43m\"\u001b[39;49m\u001b[43m,\u001b[49m\u001b[43m \u001b[49m\u001b[38;5;241;43m*\u001b[39;49m\u001b[38;5;241;43m*\u001b[39;49m\u001b[43mcheck_params\u001b[49m\u001b[43m)\u001b[49m\n\u001b[1;32m   2945\u001b[0m \u001b[38;5;28;01melif\u001b[39;00m no_val_X \u001b[38;5;129;01mand\u001b[39;00m \u001b[38;5;129;01mnot\u001b[39;00m no_val_y:\n\u001b[1;32m   2946\u001b[0m     out \u001b[38;5;241m=\u001b[39m _check_y(y, \u001b[38;5;241m*\u001b[39m\u001b[38;5;241m*\u001b[39mcheck_params)\n",
      "File \u001b[0;32m~/miniconda3/envs/qdev/lib/python3.12/site-packages/sklearn/utils/validation.py:1130\u001b[0m, in \u001b[0;36mcheck_array\u001b[0;34m(array, accept_sparse, accept_large_sparse, dtype, order, copy, force_writeable, force_all_finite, ensure_all_finite, ensure_non_negative, ensure_2d, allow_nd, ensure_min_samples, ensure_min_features, estimator, input_name)\u001b[0m\n\u001b[1;32m   1128\u001b[0m     n_samples \u001b[38;5;241m=\u001b[39m _num_samples(array)\n\u001b[1;32m   1129\u001b[0m     \u001b[38;5;28;01mif\u001b[39;00m n_samples \u001b[38;5;241m<\u001b[39m ensure_min_samples:\n\u001b[0;32m-> 1130\u001b[0m         \u001b[38;5;28;01mraise\u001b[39;00m \u001b[38;5;167;01mValueError\u001b[39;00m(\n\u001b[1;32m   1131\u001b[0m             \u001b[38;5;124m\"\u001b[39m\u001b[38;5;124mFound array with \u001b[39m\u001b[38;5;132;01m%d\u001b[39;00m\u001b[38;5;124m sample(s) (shape=\u001b[39m\u001b[38;5;132;01m%s\u001b[39;00m\u001b[38;5;124m) while a\u001b[39m\u001b[38;5;124m\"\u001b[39m\n\u001b[1;32m   1132\u001b[0m             \u001b[38;5;124m\"\u001b[39m\u001b[38;5;124m minimum of \u001b[39m\u001b[38;5;132;01m%d\u001b[39;00m\u001b[38;5;124m is required\u001b[39m\u001b[38;5;132;01m%s\u001b[39;00m\u001b[38;5;124m.\u001b[39m\u001b[38;5;124m\"\u001b[39m\n\u001b[1;32m   1133\u001b[0m             \u001b[38;5;241m%\u001b[39m (n_samples, array\u001b[38;5;241m.\u001b[39mshape, ensure_min_samples, context)\n\u001b[1;32m   1134\u001b[0m         )\n\u001b[1;32m   1136\u001b[0m \u001b[38;5;28;01mif\u001b[39;00m ensure_min_features \u001b[38;5;241m>\u001b[39m \u001b[38;5;241m0\u001b[39m \u001b[38;5;129;01mand\u001b[39;00m array\u001b[38;5;241m.\u001b[39mndim \u001b[38;5;241m==\u001b[39m \u001b[38;5;241m2\u001b[39m:\n\u001b[1;32m   1137\u001b[0m     n_features \u001b[38;5;241m=\u001b[39m array\u001b[38;5;241m.\u001b[39mshape[\u001b[38;5;241m1\u001b[39m]\n",
      "\u001b[0;31mValueError\u001b[0m: Found array with 0 sample(s) (shape=(0, 2)) while a minimum of 1 is required by NearestNeighbors."
     ]
    }
   ],
   "source": [
    "if len(plot_axes) == 2:\n",
    "    print(\"Doing 2D plot\")\n",
    "    for key in scheme_scores_4_adaptive:\n",
    "        datapoints = scheme_scores_4_adaptive[key]\n",
    "        #check if plot axes are present\n",
    "        mask = np.zeros(len(datapoints), dtype=bool)\n",
    "        for i,dp in enumerate(datapoints):\n",
    "            mask[i] = True\n",
    "            for pa in plot_axes:\n",
    "                if not pa in dp.keys():\n",
    "                    mask[i] = False\n",
    "        datapoints = [dp for i,dp in enumerate(datapoints) if mask[i]]\n",
    "        print(f\"Threw out {np.sum(~mask)} datapoints\")\n",
    "        print(f\"Length of set: {len(datapoints)}\")\n",
    "        timeouts = 0\n",
    "        for i,dp in enumerate(datapoints):\n",
    "            if \"timeout\" in dp.keys() and dp[\"timeout\"]:\n",
    "                timeouts += 1\n",
    "        print(f\"Timeouts for scheme {key}: {timeouts}\")\n",
    "        distance_2_isoaxis = np.zeros(len(datapoints))\n",
    "        for i,dp in enumerate(datapoints):\n",
    "            for ia in iso_axes:\n",
    "                distance_2_isoaxis[i] += (dp[ia] - iso_axes[ia])**2\n",
    "        distance_2_isoaxis = np.sqrt(distance_2_isoaxis)\n",
    "        plot_axis_x = np.full(len(datapoints), np.nan)\n",
    "        plot_axis_y = np.full(len(datapoints), np.nan)\n",
    "        for i,dp in enumerate(datapoints):\n",
    "            plot_axis_x[i] = dp[plot_axes[0]]\n",
    "            plot_axis_y[i] = dp[plot_axes[1]]\n",
    "        scores = np.zeros(len(datapoints))\n",
    "        for i,dp in enumerate(datapoints):\n",
    "            scores[i] = dp[\"score\"]\n",
    "        nanmask = np.isnan(plot_axis_x) & np.isnan(scores)\n",
    "        plot_axis_x = plot_axis_x[~nanmask]\n",
    "        plot_axis_y = plot_axis_y[~nanmask]\n",
    "        scores = scores[~nanmask]\n",
    "        distance_2_isoaxis = distance_2_isoaxis[~nanmask]\n",
    "        #do a k=2 nearest neighbour plot\n",
    "        from sklearn.neighbors import NearestNeighbors\n",
    "        nbrs = NearestNeighbors(n_neighbors=2, algorithm='ball_tree').fit(np.array([plot_axis_x, plot_axis_y]).T)\n",
    "        X = np.linspace(np.min(plot_axis_x), np.max(plot_axis_x), 100)\n",
    "        Y = np.linspace(np.min(plot_axis_y), np.max(plot_axis_y), 100)\n",
    "        X, Y = np.meshgrid(X, Y)\n",
    "        Z = np.zeros(X.shape)\n",
    "        for i in range(X.shape[0]):\n",
    "            for j in range(X.shape[1]):\n",
    "                distances, indices = nbrs.kneighbors(np.array([[X[i,j], Y[i,j]]]))\n",
    "                Z[i,j] = scores[indices[0][1]]\n",
    "        #as a first simple thing: plot this\n",
    "        plt.imshow(Z, extent=(np.min(plot_axis_x), np.max(plot_axis_x), np.min(plot_axis_y), np.max(plot_axis_y)), origin=\"lower\", aspect=\"auto\")\n",
    "        plt.colorbar(label=\"Fidelity\")\n",
    "        plt.title(f'Scheme \"{key}\" scores')\n",
    "        plt.xlabel(fr\"${plot_axes[0]}$ ns\")\n",
    "        plt.ylabel(fr\"${plot_axes[1]}$ ns\")\n",
    "        plt.scatter(plot_axis_x, plot_axis_y, c=distance_2_isoaxis, cmap=\"hot\", norm=LogNorm(np.min(distance_2_isoaxis), np.max(distance_2_isoaxis)), s=10, alpha=0.7)\n",
    "        plt.colorbar(label=\"Distance to isoaxis\")\n",
    "        plt.show()\n"
   ]
  }
 ],
 "metadata": {
  "kernelspec": {
   "display_name": "qdev",
   "language": "python",
   "name": "python3"
  },
  "language_info": {
   "codemirror_mode": {
    "name": "ipython",
    "version": 3
   },
   "file_extension": ".py",
   "mimetype": "text/x-python",
   "name": "python",
   "nbconvert_exporter": "python",
   "pygments_lexer": "ipython3",
   "version": "3.12.2"
  }
 },
 "nbformat": 4,
 "nbformat_minor": 5
}
