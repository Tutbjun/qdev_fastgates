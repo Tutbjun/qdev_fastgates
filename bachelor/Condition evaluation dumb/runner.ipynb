{
 "cells": [
  {
   "cell_type": "code",
   "execution_count": null,
   "id": "e9c6bb55",
   "metadata": {},
   "outputs": [],
   "source": [
    "import os\n",
    "os.system(\"python3 main_eval_scheme.py\")\n",
    "\n"
   ]
  }
 ],
 "metadata": {
  "language_info": {
   "name": "python"
  }
 },
 "nbformat": 4,
 "nbformat_minor": 5
}
