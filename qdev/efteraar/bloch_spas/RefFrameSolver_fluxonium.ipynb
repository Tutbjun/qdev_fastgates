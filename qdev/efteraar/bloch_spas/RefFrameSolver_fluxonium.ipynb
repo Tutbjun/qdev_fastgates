{
 "cells": [
  {
   "cell_type": "code",
   "execution_count": 2,
   "metadata": {},
   "outputs": [],
   "source": [
    "import numpy as np\n",
    "H0 = np.load('HDiag_fluxonium.npy')"
   ]
  },
  {
   "cell_type": "code",
   "execution_count": 8,
   "metadata": {},
   "outputs": [
    {
     "ename": "TypeError",
     "evalue": "incompatible dimensions [[2], [1]] and [[2], [1]]",
     "output_type": "error",
     "traceback": [
      "\u001b[0;31m---------------------------------------------------------------------------\u001b[0m",
      "\u001b[0;31mTypeError\u001b[0m                                 Traceback (most recent call last)",
      "Cell \u001b[0;32mIn[8], line 10\u001b[0m\n\u001b[1;32m      8\u001b[0m     \u001b[38;5;28;01mfor\u001b[39;00m j \u001b[38;5;129;01min\u001b[39;00m \u001b[38;5;28mrange\u001b[39m(i,\u001b[38;5;241m4\u001b[39m):\n\u001b[1;32m      9\u001b[0m         states[j] \u001b[38;5;241m=\u001b[39m states[j] \u001b[38;5;241m+\u001b[39m \u001b[38;5;241m0.1\u001b[39m\u001b[38;5;241m*\u001b[39msigmax()\u001b[38;5;241m*\u001b[39mstates[i]\n\u001b[0;32m---> 10\u001b[0m         states[j] \u001b[38;5;241m=\u001b[39m states[j]\u001b[38;5;241m/\u001b[39m\u001b[43mnp\u001b[49m\u001b[38;5;241;43m.\u001b[39;49m\u001b[43mlinalg\u001b[49m\u001b[38;5;241;43m.\u001b[39;49m\u001b[43mnorm\u001b[49m\u001b[43m(\u001b[49m\u001b[43mstates\u001b[49m\u001b[43m[\u001b[49m\u001b[43mj\u001b[49m\u001b[43m]\u001b[49m\u001b[43m)\u001b[49m\n\u001b[1;32m     12\u001b[0m psi0 \u001b[38;5;241m=\u001b[39m states[\u001b[38;5;241m3\u001b[39m]\n\u001b[1;32m     13\u001b[0m \u001b[38;5;66;03m#H = 2*np.pi * 1e1 * sigmax() + 2*np.pi * 1e2 * sigmaz()\u001b[39;00m\n\u001b[1;32m     14\u001b[0m \u001b[38;5;66;03m#H = [H0, H1]\u001b[39;00m\n\u001b[1;32m     15\u001b[0m \u001b[38;5;66;03m#from qutip import QObjEvo\u001b[39;00m\n",
      "File \u001b[0;32m~/miniconda3/envs/qdev/lib/python3.10/site-packages/numpy/linalg/_linalg.py:2736\u001b[0m, in \u001b[0;36mnorm\u001b[0;34m(x, ord, axis, keepdims)\u001b[0m\n\u001b[1;32m   2734\u001b[0m     sqnorm \u001b[38;5;241m=\u001b[39m x_real\u001b[38;5;241m.\u001b[39mdot(x_real) \u001b[38;5;241m+\u001b[39m x_imag\u001b[38;5;241m.\u001b[39mdot(x_imag)\n\u001b[1;32m   2735\u001b[0m \u001b[38;5;28;01melse\u001b[39;00m:\n\u001b[0;32m-> 2736\u001b[0m     sqnorm \u001b[38;5;241m=\u001b[39m \u001b[43mx\u001b[49m\u001b[38;5;241;43m.\u001b[39;49m\u001b[43mdot\u001b[49m\u001b[43m(\u001b[49m\u001b[43mx\u001b[49m\u001b[43m)\u001b[49m\n\u001b[1;32m   2737\u001b[0m ret \u001b[38;5;241m=\u001b[39m sqrt(sqnorm)\n\u001b[1;32m   2738\u001b[0m \u001b[38;5;28;01mif\u001b[39;00m keepdims:\n",
      "File \u001b[0;32m~/miniconda3/envs/qdev/lib/python3.10/site-packages/qutip/core/qobj.py:434\u001b[0m, in \u001b[0;36mQobj.__mul__\u001b[0;34m(self, other)\u001b[0m\n\u001b[1;32m    427\u001b[0m \u001b[38;5;250m\u001b[39m\u001b[38;5;124;03m\"\"\"\u001b[39;00m\n\u001b[1;32m    428\u001b[0m \u001b[38;5;124;03mIf other is a Qobj, we dispatch to __matmul__. If not, we\u001b[39;00m\n\u001b[1;32m    429\u001b[0m \u001b[38;5;124;03mcheck that other is a valid complex scalar, i.e., we can do\u001b[39;00m\n\u001b[1;32m    430\u001b[0m \u001b[38;5;124;03mcomplex(other). Otherwise, we return NotImplemented.\u001b[39;00m\n\u001b[1;32m    431\u001b[0m \u001b[38;5;124;03m\"\"\"\u001b[39;00m\n\u001b[1;32m    433\u001b[0m \u001b[38;5;28;01mif\u001b[39;00m \u001b[38;5;28misinstance\u001b[39m(other, Qobj):\n\u001b[0;32m--> 434\u001b[0m     \u001b[38;5;28;01mreturn\u001b[39;00m \u001b[38;5;28;43mself\u001b[39;49m\u001b[38;5;241;43m.\u001b[39;49m\u001b[38;5;21;43m__matmul__\u001b[39;49m\u001b[43m(\u001b[49m\u001b[43mother\u001b[49m\u001b[43m)\u001b[49m\n\u001b[1;32m    436\u001b[0m \u001b[38;5;66;03m# We send other to mul instead of complex(other) to be more flexible.\u001b[39;00m\n\u001b[1;32m    437\u001b[0m \u001b[38;5;66;03m# The dispatcher can then decide how to handle other and return\u001b[39;00m\n\u001b[1;32m    438\u001b[0m \u001b[38;5;66;03m# TypeError if it does not know what to do with the type of other.\u001b[39;00m\n\u001b[1;32m    439\u001b[0m \u001b[38;5;28;01mtry\u001b[39;00m:\n",
      "File \u001b[0;32m~/miniconda3/envs/qdev/lib/python3.10/site-packages/qutip/core/qobj.py:471\u001b[0m, in \u001b[0;36mQobj.__matmul__\u001b[0;34m(self, other)\u001b[0m\n\u001b[1;32m    469\u001b[0m     \u001b[38;5;28;01mexcept\u001b[39;00m \u001b[38;5;167;01mTypeError\u001b[39;00m:\n\u001b[1;32m    470\u001b[0m         \u001b[38;5;28;01mreturn\u001b[39;00m \u001b[38;5;28mNotImplemented\u001b[39m\n\u001b[0;32m--> 471\u001b[0m new_dims \u001b[38;5;241m=\u001b[39m \u001b[38;5;28;43mself\u001b[39;49m\u001b[38;5;241;43m.\u001b[39;49m\u001b[43m_dims\u001b[49m\u001b[43m \u001b[49m\u001b[38;5;241;43m@\u001b[39;49m\u001b[43m \u001b[49m\u001b[43mother\u001b[49m\u001b[38;5;241;43m.\u001b[39;49m\u001b[43m_dims\u001b[49m\n\u001b[1;32m    472\u001b[0m \u001b[38;5;28;01mif\u001b[39;00m new_dims\u001b[38;5;241m.\u001b[39mtype \u001b[38;5;241m==\u001b[39m \u001b[38;5;124m'\u001b[39m\u001b[38;5;124mscalar\u001b[39m\u001b[38;5;124m'\u001b[39m:\n\u001b[1;32m    473\u001b[0m     \u001b[38;5;28;01mreturn\u001b[39;00m _data\u001b[38;5;241m.\u001b[39minner(\u001b[38;5;28mself\u001b[39m\u001b[38;5;241m.\u001b[39m_data, other\u001b[38;5;241m.\u001b[39m_data)\n",
      "File \u001b[0;32m~/miniconda3/envs/qdev/lib/python3.10/site-packages/qutip/core/dimensions.py:828\u001b[0m, in \u001b[0;36mDimensions.__matmul__\u001b[0;34m(self, other)\u001b[0m\n\u001b[1;32m    826\u001b[0m \u001b[38;5;28;01mdef\u001b[39;00m \u001b[38;5;21m__matmul__\u001b[39m(\u001b[38;5;28mself\u001b[39m, other):\n\u001b[1;32m    827\u001b[0m     \u001b[38;5;28;01mif\u001b[39;00m \u001b[38;5;28mself\u001b[39m\u001b[38;5;241m.\u001b[39mfrom_ \u001b[38;5;241m!=\u001b[39m other\u001b[38;5;241m.\u001b[39mto_:\n\u001b[0;32m--> 828\u001b[0m         \u001b[38;5;28;01mraise\u001b[39;00m \u001b[38;5;167;01mTypeError\u001b[39;00m(\u001b[38;5;124mf\u001b[39m\u001b[38;5;124m\"\u001b[39m\u001b[38;5;124mincompatible dimensions \u001b[39m\u001b[38;5;132;01m{\u001b[39;00m\u001b[38;5;28mself\u001b[39m\u001b[38;5;132;01m}\u001b[39;00m\u001b[38;5;124m and \u001b[39m\u001b[38;5;132;01m{\u001b[39;00mother\u001b[38;5;132;01m}\u001b[39;00m\u001b[38;5;124m\"\u001b[39m)\n\u001b[1;32m    829\u001b[0m     args \u001b[38;5;241m=\u001b[39m other\u001b[38;5;241m.\u001b[39mfrom_, \u001b[38;5;28mself\u001b[39m\u001b[38;5;241m.\u001b[39mto_\n\u001b[1;32m    830\u001b[0m     \u001b[38;5;28;01mif\u001b[39;00m args \u001b[38;5;129;01min\u001b[39;00m Dimensions\u001b[38;5;241m.\u001b[39m_stored_dims:\n",
      "\u001b[0;31mTypeError\u001b[0m: incompatible dimensions [[2], [1]] and [[2], [1]]"
     ]
    }
   ],
   "source": [
    "#first, put it in simulation to illustrate that it is not static\n",
    "%matplotlib inline\n",
    "from RefFrameSolver_funcs import *\n",
    "\n",
    "states = [basis(2,0) for i in range(4)]\n",
    "#perform slight sigma x rotation\n",
    "for i in range(4):\n",
    "    for j in range(i,4):\n",
    "        states[j] = states[j] + 0.1*sigmax()*states[i]\n",
    "        states[j] = states[j]/np.linalg.norm(states[j])\n",
    "\n",
    "psi0 = states[3]\n",
    "#H = 2*np.pi * 1e1 * sigmax() + 2*np.pi * 1e2 * sigmaz()\n",
    "#H = [H0, H1]\n",
    "#from qutip import QObjEvo\n",
    "H =  QobjEvo([H0])\n",
    "\n",
    "times = np.linspace(0.0, 1e-3, 2000)\n",
    "solver = SESolver(H)\n",
    "result = solver.run(psi0, times, e_ops=[sigmax(), sigmay(), sigmaz()])\n",
    "b = Bloch()\n",
    "x,y,z = result.expect[0], result.expect[1], result.expect[2]\n",
    "cmap = plt.get_cmap('gist_rainbow')\n",
    "b.add_points([x,y,z],colors = list(map(cmap, np.linspace(0,1,len(x)))))\n",
    "b.show()\n"
   ]
  }
 ],
 "metadata": {
  "kernelspec": {
   "display_name": "qdev",
   "language": "python",
   "name": "python3"
  },
  "language_info": {
   "codemirror_mode": {
    "name": "ipython",
    "version": 3
   },
   "file_extension": ".py",
   "mimetype": "text/x-python",
   "name": "python",
   "nbconvert_exporter": "python",
   "pygments_lexer": "ipython3",
   "version": "3.10.14"
  }
 },
 "nbformat": 4,
 "nbformat_minor": 2
}
