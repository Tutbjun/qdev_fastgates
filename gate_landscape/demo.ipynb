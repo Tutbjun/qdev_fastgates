{
 "cells": [
  {
   "cell_type": "code",
   "execution_count": 13,
   "metadata": {},
   "outputs": [],
   "source": [
    "import sympy as sp\n",
    "import numpy as np\n",
    "import matplotlib.pyplot as plt\n",
    "from tqdm import tqdm\n",
    "from multiprocessing import Pool\n",
    "import scipy as scp"
   ]
  },
  {
   "cell_type": "code",
   "execution_count": 14,
   "metadata": {},
   "outputs": [
    {
     "name": "stderr",
     "output_type": "stream",
     "text": [
      "<>:8: SyntaxWarning: invalid escape sequence '\\o'\n",
      "<>:8: SyntaxWarning: invalid escape sequence '\\o'\n",
      "/tmp/ipykernel_90943/1389585794.py:8: SyntaxWarning: invalid escape sequence '\\o'\n",
      "  omega_01 = sp.symbols('\\omega_{01}', real=True, positive=True)\n"
     ]
    },
    {
     "data": {
      "text/latex": [
       "$\\displaystyle \\left[\\begin{matrix}1 & 0\\\\0 & 1\\end{matrix}\\right]$"
      ],
      "text/plain": [
       "Matrix([\n",
       "[1, 0],\n",
       "[0, 1]])"
      ]
     },
     "metadata": {},
     "output_type": "display_data"
    },
    {
     "data": {
      "text/latex": [
       "$\\displaystyle \\left[\\begin{matrix}0 & \\int\\limits_{t_{0}}^{t_{g}} \\left(- 0.5 i \\left(1 + e^{- 2.0 i \\left(\\omega_{01} \\left(t_{0} + t_{1}\\right) + \\varphi\\right)}\\right) e^{1.0 i \\varphi} \\sin^{2}{\\left(\\frac{\\pi t_{1}}{2 t_{g}} \\right)}\\right)\\, dt_{1}\\\\\\int\\limits_{t_{0}}^{t_{g}} \\left(- 0.5 i \\left(e^{2.0 i \\left(\\omega_{01} \\left(t_{0} + t_{1}\\right) + \\varphi\\right)} + 1\\right) e^{- 1.0 i \\varphi} \\sin^{2}{\\left(\\frac{\\pi t_{1}}{2 t_{g}} \\right)}\\right)\\, dt_{1} & 0\\end{matrix}\\right]$"
      ],
      "text/plain": [
       "Matrix([\n",
       "[                                                                                                                              0, Integral(-0.5*I*(1 + exp(-2.0*I*(\\omega_{01}*(t_0 + t_1) + varphi)))*exp(1.0*I*varphi)*sin(pi*t_1/(2*t_g))**2, (t_1, t_0, t_g))],\n",
       "[Integral(-0.5*I*(exp(2.0*I*(\\omega_{01}*(t_0 + t_1) + varphi)) + 1)*exp(-1.0*I*varphi)*sin(pi*t_1/(2*t_g))**2, (t_1, t_0, t_g)),                                                                                                                               0]])"
      ]
     },
     "metadata": {},
     "output_type": "display_data"
    },
    {
     "data": {
      "text/latex": [
       "$\\displaystyle \\left[\\begin{matrix}\\int\\limits_{t_{0}}^{t_{g}}\\int\\limits_{t_{0}}^{t_{2}} \\left(- 0.25 \\left(1 + e^{- 2.0 i \\left(\\omega_{01} \\left(t_{0} + t_{1}\\right) + \\varphi\\right)}\\right) \\left(e^{2.0 i \\left(\\omega_{01} \\left(t_{0} + t_{2}\\right) + \\varphi\\right)} + 1\\right) \\sin^{2}{\\left(\\frac{\\pi t_{1}}{2 t_{g}} \\right)} \\sin^{2}{\\left(\\frac{\\pi t_{2}}{2 t_{g}} \\right)}\\right)\\, dt_{1}\\, dt_{2} & 0\\\\0 & \\int\\limits_{t_{0}}^{t_{g}}\\int\\limits_{t_{0}}^{t_{2}} \\left(- 0.25 \\left(1 + e^{- 2.0 i \\left(\\omega_{01} \\left(t_{0} + t_{2}\\right) + \\varphi\\right)}\\right) \\left(e^{2.0 i \\left(\\omega_{01} \\left(t_{0} + t_{1}\\right) + \\varphi\\right)} + 1\\right) \\sin^{2}{\\left(\\frac{\\pi t_{1}}{2 t_{g}} \\right)} \\sin^{2}{\\left(\\frac{\\pi t_{2}}{2 t_{g}} \\right)}\\right)\\, dt_{1}\\, dt_{2}\\end{matrix}\\right]$"
      ],
      "text/plain": [
       "Matrix([\n",
       "[Integral(-0.25*(1 + exp(-2.0*I*(\\omega_{01}*(t_0 + t_1) + varphi)))*(exp(2.0*I*(\\omega_{01}*(t_0 + t_2) + varphi)) + 1)*sin(pi*t_1/(2*t_g))**2*sin(pi*t_2/(2*t_g))**2, (t_1, t_0, t_2), (t_2, t_0, t_g)),                                                                                                                                                                                                        0],\n",
       "[                                                                                                                                                                                                       0, Integral(-0.25*(1 + exp(-2.0*I*(\\omega_{01}*(t_0 + t_2) + varphi)))*(exp(2.0*I*(\\omega_{01}*(t_0 + t_1) + varphi)) + 1)*sin(pi*t_1/(2*t_g))**2*sin(pi*t_2/(2*t_g))**2, (t_1, t_0, t_2), (t_2, t_0, t_g))]])"
      ]
     },
     "metadata": {},
     "output_type": "display_data"
    },
    {
     "data": {
      "text/plain": [
       "'U = U_series[0]\\nfor i in range(1,l):\\n    U = U + U_series[i].doit() if isinstance(U_series[i], sp.Integral) else U + U_series[i]'"
      ]
     },
     "execution_count": 14,
     "metadata": {},
     "output_type": "execute_result"
    }
   ],
   "source": [
    "hbar = sp.symbols('hbar', real=True, positive=True)\n",
    "t = sp.symbols('t', real=True)\n",
    "t_0 = sp.symbols('t_0', real=True)\n",
    "t_g = sp.symbols('t_g', real=True)\n",
    "phi=  sp.symbols('varphi', real=True)\n",
    "a = sp.symbols('a', real=True)\n",
    "b = sp.symbols('b', real=True)\n",
    "omega_01 = sp.symbols('\\omega_{01}', real=True, positive=True)\n",
    "\n",
    "try:\n",
    "    display_\n",
    "except NameError:\n",
    "    display_ = display\n",
    "\n",
    "try:\n",
    "    print_\n",
    "except NameError:\n",
    "    print_ = print\n",
    "\n",
    "def display(mat,do=False):\n",
    "    if do:\n",
    "        display_(mat)\n",
    "\n",
    "def print(line,do=False):\n",
    "    if do:\n",
    "        print_(line)\n",
    "\n",
    "def Omega(t,t_0,t_g):\n",
    "    return sp.sin((t)*sp.pi/(2*t_g))**2\n",
    "mat_01 = sp.Matrix([[0, 1], [0, 0]])\n",
    "def H_part(omega_01,t,t_0,t_g):\n",
    "    return 0.5*hbar*sp.exp(1j*phi)*(1+sp.exp(-2j*(omega_01*(t+t_0)+phi)))\n",
    "def H(t,t_0,t_g):\n",
    "    part_01 = H_part(omega_01,t,t_0,t_g)*Omega(t,t_0,t_g)\n",
    "    mat = sp.Matrix([[0, part_01], [sp.conjugate(part_01), 0]])\n",
    "    return mat\n",
    "def U_gen(t,t_0,t_g,order=0):\n",
    "    mat = sp.eye(2)\n",
    "    if order == 0:\n",
    "        return mat\n",
    "    else:\n",
    "        #u_part = sp.Integral(-1j/hbar*H(t,t_0,t_g),(t,a,b))\n",
    "        u_part = -1j/hbar*H(t,t_0,t_g)\n",
    "        display(u_part)\n",
    "    ts = []\n",
    "    print(\"U matrix product:\")\n",
    "    for i in range(order):\n",
    "        ts.append(sp.symbols('t_'+str(i+1), real=True))\n",
    "        #new = u_part.subs(a,t_0)\n",
    "        #new = new.subs(b,ts[i])\n",
    "        new = u_part.subs(t,ts[i])\n",
    "        print(\"Addition:\")\n",
    "        display(new)\n",
    "        mat = mat*new\n",
    "        print(\"Result:\")\n",
    "        display(mat)\n",
    "    print(\"U matrix integral:\") \n",
    "    for i in range(order):\n",
    "        lower = t_0\n",
    "        if i != len(ts)-1:\n",
    "            upper = ts[i+1]\n",
    "        else:\n",
    "            upper = t_g\n",
    "        #mat = sp.Integral(mat,(ts[i],lower,upper))\n",
    "        #instead of integrating the matrix, integrate every element\n",
    "        for j in range(2):\n",
    "            for k in range(2):\n",
    "                if mat[j,k] != 0:\n",
    "                    mat[j,k] = sp.Integral(mat[j,k],(ts[i],lower,upper))\n",
    "        display(mat)\n",
    "    return mat\n",
    "\n",
    "U_test = U_gen(t,t_0,t_g,5)\n",
    "#display\n",
    "display(U_test)\n",
    "\n",
    "U_series = []\n",
    "for i in range(3):\n",
    "    U_series.append(U_gen(t,t_0,t_g,i))\n",
    "    display_(U_series[i])\n",
    "\n",
    "\"\"\"U = U_series[0]\n",
    "for i in range(1,l):\n",
    "    U = U + U_series[i].doit() if isinstance(U_series[i], sp.Integral) else U + U_series[i]\"\"\""
   ]
  },
  {
   "cell_type": "code",
   "execution_count": 15,
   "metadata": {},
   "outputs": [
    {
     "data": {
      "text/plain": [
       "'#just for the demo, perform this with dummy-values on [1,0]\\ntest_series = U_series\\nt_0_sub = 0\\nt_g_sub = 1\\nomega_01_sub = 1\\n\\ndef integrate_job(i):\\n    test_series[i] = test_series[i].subs(t_0,t_0_sub)\\n    test_series[i] = test_series[i].subs(t_g,t_g_sub)\\n    test_series[i] = test_series[i].subs(omega_01,omega_01_sub)\\n    test_series[i] = test_series[i].doit()\\n    display(test_series[i])\\n\\nwith Pool(16) as p:\\n    list(tqdm(p.imap(integrate_job,range(len(test_series))),total=len(test_series)))'"
      ]
     },
     "execution_count": 15,
     "metadata": {},
     "output_type": "execute_result"
    }
   ],
   "source": [
    "\"\"\"#just for the demo, perform this with dummy-values on [1,0]\n",
    "test_series = U_series\n",
    "t_0_sub = 0\n",
    "t_g_sub = 1\n",
    "omega_01_sub = 1\n",
    "\n",
    "def integrate_job(i):\n",
    "    test_series[i] = test_series[i].subs(t_0,t_0_sub)\n",
    "    test_series[i] = test_series[i].subs(t_g,t_g_sub)\n",
    "    test_series[i] = test_series[i].subs(omega_01,omega_01_sub)\n",
    "    test_series[i] = test_series[i].doit()\n",
    "    display(test_series[i])\n",
    "\n",
    "with Pool(16) as p:\n",
    "    list(tqdm(p.imap(integrate_job,range(len(test_series))),total=len(test_series)))\"\"\""
   ]
  },
  {
   "cell_type": "code",
   "execution_count": 16,
   "metadata": {},
   "outputs": [],
   "source": [
    "def sympy_to_nquad(integral_expr):\n",
    "    #!ChatGPT code\n",
    "    \"\"\"Converts a sympy Integral expression to scipy's nquad format\"\"\"\n",
    "    \n",
    "    # Extract variables\n",
    "    integrands = integral_expr.function.as_ordered_terms()\n",
    "    integrand = sp.lambdify(integral_expr.variables, integrands, modules=[\"numpy\"])\n",
    "    #test\n",
    "    #print_(integrand([0.5]*len(integral_expr.variables)))\n",
    "    integrand_ = lambda *args: integrand(*args)[0] if len(integrands) == 1 else integrand(*args)\n",
    "    #print_(integrand_([0.5]*len(integral_expr.variables)))\n",
    "\n",
    "    #next, find the integration limits as functions\n",
    "    limits = []\n",
    "    def bounds(*args):\n",
    "        x = args[0]\n",
    "        return 0,x\n",
    "    \n",
    "    for i in integral_expr.limits:\n",
    "        limits.append((i[1],i[2]))\n",
    "        #make a function definition in case the entry is symbolic\n",
    "        if isinstance(i[2],sp.Symbol):\n",
    "            #exec(f\"{i[2]} = sp.symbols('{i[2]}', real=True)\")\n",
    "            if not isinstance(i[1],sp.Symbol):\n",
    "                val = i[1]\n",
    "                limits[-1] = bounds\n",
    "            else:\n",
    "                raise NotImplementedError\n",
    "        elif isinstance(i[1],sp.Symbol):\n",
    "            raise NotImplementedError\n",
    "\n",
    "    \n",
    "    return integrand_, limits\n",
    "\n",
    "    # Define integrand as a lambda function\n",
    "    integrand = sp.lambdify(vars_order, integral_expr.function, modules=[\"numpy\"])\n",
    "    \n",
    "    # Extract integration limits\n",
    "    limits = []\n",
    "    for var in vars_order:\n",
    "        for i in integrals:\n",
    "            if i.limits[0] == var:\n",
    "                lims = i.limits[1:]  # Ignore the variable itself\n",
    "                if len(lims) == 1:  # Definite integral with only an upper bound\n",
    "                    limits.append([0, lims[0]])  # Assume lower bound is 0\n",
    "                else:\n",
    "                    limits.append([lims[0], lims[1]])\n",
    "\n",
    "    return integrand, limits"
   ]
  },
  {
   "cell_type": "code",
   "execution_count": 23,
   "metadata": {},
   "outputs": [],
   "source": [
    "eigenset = {\n",
    "    'z': [sp.Matrix([1,0]),sp.Matrix([0,1])],\n",
    "    'x': [sp.Matrix([1,1])/sp.sqrt(2),sp.Matrix([1,-1])/sp.sqrt(2)],\n",
    "    'y': [sp.Matrix([1,-1j])/sp.sqrt(2),sp.Matrix([1,1j])/sp.sqrt(2)]\n",
    "}\n",
    "combinatorics = ['z','x','y']\n",
    "combinatorics = np.meshgrid(combinatorics,combinatorics)\n",
    "\n",
    "gate_2_implement = sp.Matrix([[0,1],[1,0]])\n",
    "\n",
    "def job(i,U_part,t_0_e,t_g_e,omega_01_e,phi_e):\n",
    "    #print_(f\"Integrating {i+1}\")\n",
    "    new = U_part.subs(t_0,t_0_e)\n",
    "    new = new.subs(t_g,t_g_e)\n",
    "    new = new.subs(omega_01,omega_01_e)\n",
    "    new = new.subs(phi,phi_e)\n",
    "    #numerically integrate it\n",
    "    #print_(\"Integrating:\")\n",
    "    #display_(new)\n",
    "    #integrand, limits = sympy_to_nquad(new)\n",
    "    new_results = []\n",
    "    for i in range(new.shape[0]):\n",
    "        new_results.append([])\n",
    "        for j in range(new.shape[1]):\n",
    "            #print_(f\"Lambdyfying {new[i,j]}\")\n",
    "            if new[i,j] == 0:\n",
    "                new_results[-1].append(0)\n",
    "                continue\n",
    "            integrand, limits = sympy_to_nquad(new[i,j])\n",
    "            integrand_re = lambda *args: integrand(*args).real\n",
    "            integrand_im = lambda *args: integrand(*args).imag\n",
    "            results_re, _ = scp.integrate.nquad(integrand_re, limits)\n",
    "            results_im, _ = scp.integrate.nquad(integrand_im, limits)\n",
    "            results = results_re + 1j*results_im\n",
    "            new_results[-1].append(results)\n",
    "    results = sp.Matrix(new_results)\n",
    "    new = results\n",
    "    #print_(\"Result:\")\n",
    "    #display_(new)\n",
    "    #gate_2_optimize = gate_2_optimize + new\n",
    "    #additions[i-1] = new\n",
    "    #print_(f\"Finished integrating {i+1}\")\n",
    "    return new\n",
    "    #return None\n",
    "\n",
    "def get_gate_2_optimize(t,t_0_e,t_g_e,omega_01_e,phi_e):\n",
    "    #use the U_series, do the numerical integral (once), and return the resulting matrix\n",
    "    gate_2_optimize = None\n",
    "\n",
    "    if gate_2_optimize is None:\n",
    "        gate_2_optimize = U_series[0]\n",
    "        #additions = [0]*(len(U_series)-1)\n",
    "        \n",
    "        with Pool(16) as p:\n",
    "            l = len(U_series)-1\n",
    "            results = p.starmap(job,\n",
    "                                [\n",
    "                                    (\n",
    "                                        i,\n",
    "                                        U_series[i+1],\n",
    "                                        t_0_e,\n",
    "                                        t_g_e,\n",
    "                                        omega_01_e,\n",
    "                                        phi_e\n",
    "                                        ) for i in range(l)])\n",
    "        p.close()\n",
    "        p.join()\n",
    "        \"\"\"results = [\n",
    "            job(\n",
    "                i,\n",
    "                U_series[i+1],\n",
    "                t_0_e,\n",
    "                t_g_e,\n",
    "                omega_01_e,\n",
    "                phi_e\n",
    "            ) for i in range(len(U_series)-1)\n",
    "        ]\"\"\"\n",
    "        for i in range(len(results)):\n",
    "            gate_2_optimize = gate_2_optimize + results[i]\n",
    "    return gate_2_optimize\n",
    "\n",
    "\n",
    "y_targets = []\n",
    "for i,a in enumerate(combinatorics[0].flatten()):\n",
    "    for j,b in enumerate(combinatorics[1].flatten()):\n",
    "        y_targets.append(eigenset[a][0].T.conjugate()*gate_2_implement*eigenset[b][0])\n",
    "        y_targets.append(eigenset[a][0].T.conjugate()*gate_2_implement*eigenset[b][1])\n",
    "        y_targets.append(eigenset[a][1].T.conjugate()*gate_2_implement*eigenset[b][0])\n",
    "        y_targets.append(eigenset[a][1].T.conjugate()*gate_2_implement*eigenset[b][1])\n",
    "\n",
    "\n"
   ]
  },
  {
   "cell_type": "code",
   "execution_count": 24,
   "metadata": {},
   "outputs": [],
   "source": [
    "def cost_function(y_targets,y_actuals):\n",
    "    def loss(y_target,y_actual):\n",
    "        y_target = np.abs(complex(y_target[0]))\n",
    "        y_actual = np.abs(complex(y_actual[0]))\n",
    "        #def an entropic loss\n",
    "        if y_target < 0:\n",
    "            return 0\n",
    "        return -np.log(y_actual)*y_target - np.log(1-y_actual)*(1-y_target)\n",
    "    return sum([loss(y_target,y_actual) for y_target,y_actual in zip(y_targets,y_actuals)])"
   ]
  },
  {
   "cell_type": "code",
   "execution_count": 27,
   "metadata": {},
   "outputs": [
    {
     "name": "stderr",
     "output_type": "stream",
     "text": [
      "0it [00:00, ?it/s]/tmp/ipykernel_90943/1233448497.py:8: RuntimeWarning: invalid value encountered in log\n",
      "  return -np.log(y_actual)*y_target - np.log(1-y_actual)*(1-y_target)\n",
      "100it [00:44,  2.24it/s]\n"
     ]
    },
    {
     "data": {
      "image/png": "[encoded data removed]",
      "text/plain": [
       "<Figure size 640x480 with 1 Axes>"
      ]
     },
     "metadata": {},
     "output_type": "display_data"
    }
   ],
   "source": [
    "#parameter samples:\n",
    "t_0_samples = [0]\n",
    "t_g_samples = np.linspace(0.1,1,10)\n",
    "omega_01_samples = np.linspace(0.1,1,10)\n",
    "phi_samples = [0]\n",
    "parameter_grid = np.meshgrid(t_0_samples,t_g_samples,omega_01_samples,phi_samples)\n",
    "shape = parameter_grid[0].shape\n",
    "parameter_grid = zip(parameter_grid[0].flatten(),parameter_grid[1].flatten(),parameter_grid[2].flatten(),parameter_grid[3].flatten())\n",
    "\n",
    "def cost_function_wrapper(parameter):\n",
    "    t_0 = parameter[0]\n",
    "    t_g = parameter[1]\n",
    "    omega_01 = parameter[2]\n",
    "    phi = parameter[3]\n",
    "    y_actuals = []\n",
    "    gate_2_optimize = get_gate_2_optimize(t,t_0,t_g,omega_01,phi)\n",
    "    for i,a in enumerate(combinatorics[0].flatten()):\n",
    "        for j,b in enumerate(combinatorics[1].flatten()):\n",
    "            y_actuals.append(eigenset[a][0].T.conjugate()*gate_2_optimize*eigenset[b][0])\n",
    "            y_actuals.append(eigenset[a][0].T.conjugate()*gate_2_optimize*eigenset[b][1])\n",
    "            y_actuals.append(eigenset[a][1].T.conjugate()*gate_2_optimize*eigenset[b][0])\n",
    "            y_actuals.append(eigenset[a][1].T.conjugate()*gate_2_optimize*eigenset[b][1])\n",
    "    return cost_function(y_targets,y_actuals)\n",
    "\n",
    "costs = np.zeros(shape).flatten()\n",
    "for i,p in enumerate(tqdm(parameter_grid)):\n",
    "    costs[i] = cost_function_wrapper(p)\n",
    "\n",
    "#do visual costplot by t_g and omega_01\n",
    "costs = costs.reshape(len(t_g_samples),len(omega_01_samples))\n",
    "plt.xlabel('t_g')\n",
    "plt.ylabel('omega_01')\n",
    "plt.title('Cost function')\n",
    "plt.imshow(costs)\n",
    "plt.show()\n"
   ]
  }
 ],
 "metadata": {
  "kernelspec": {
   "display_name": "qdev",
   "language": "python",
   "name": "python3"
  },
  "language_info": {
   "codemirror_mode": {
    "name": "ipython",
    "version": 3
   },
   "file_extension": ".py",
   "mimetype": "text/x-python",
   "name": "python",
   "nbconvert_exporter": "python",
   "pygments_lexer": "ipython3",
   "version": "3.12.2"
  }
 },
 "nbformat": 4,
 "nbformat_minor": 2
}
